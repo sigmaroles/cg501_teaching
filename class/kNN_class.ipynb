{
 "cells": [
  {
   "cell_type": "code",
   "execution_count": 1,
   "metadata": {},
   "outputs": [],
   "source": [
    "import numpy as np\n",
    "from sklearn.datasets import load_iris, load_diabetes"
   ]
  },
  {
   "cell_type": "code",
   "execution_count": 2,
   "metadata": {},
   "outputs": [],
   "source": [
    "# for classification\n",
    "irisdata = load_iris()\n",
    "datax = irisdata.data\n",
    "datay = irisdata.target\n",
    "\n",
    "# for regression\n",
    "diab_data = load_diabetes()\n",
    "dx = diab_data.data\n",
    "dy = diab_data.target"
   ]
  },
  {
   "cell_type": "code",
   "execution_count": 3,
   "metadata": {},
   "outputs": [],
   "source": [
    "def kNN(datax, datay, x1, k, dfunc, task='cls'):\n",
    "    distances = np.array([dfunc(x1, x) for x in datax])\n",
    "    indx = np.argpartition(distances, k)\n",
    "    indx = indx[:k]\n",
    "    target_k = datay[indx]\n",
    "    # print(distances[indx]) # just a sanity check, to see if 0.0 shows up when x1 is a part of datax\n",
    "    \n",
    "    \n",
    "    if task=='cls':\n",
    "        vals, counts = np.unique(target_k, return_counts=True)\n",
    "        pred_y = vals[np.argmax(counts)]\n",
    "        return pred_y\n",
    "    elif task=='reg':\n",
    "        return np.mean(target_k)\n",
    "\n",
    "def distance_euclidean(x1, x2):\n",
    "    return np.sqrt(np.sum((x1-x2)**2))\n",
    "\n",
    "def distance_manhattan(x1, x2):\n",
    "    return np.sum(np.abs(x1-x2))"
   ]
  },
  {
   "cell_type": "code",
   "execution_count": 4,
   "metadata": {},
   "outputs": [
    {
     "name": "stdout",
     "output_type": "stream",
     "text": [
      "200.88888888888889 206.0\n",
      "200.22222222222223 206.0\n"
     ]
    }
   ],
   "source": [
    "#x1 = np.random.rand(4,1)\n",
    "test_indx = 3\n",
    "x1 = dx[test_indx]\n",
    "print (kNN(dx, dy, x1, 9, dfunc=distance_manhattan, task='reg'), dy[test_indx])\n",
    "print (kNN(dx, dy, x1, 9, dfunc=distance_euclidean, task='reg'), dy[test_indx])"
   ]
  },
  {
   "cell_type": "code",
   "execution_count": 5,
   "metadata": {},
   "outputs": [
    {
     "data": {
      "text/plain": [
       "3"
      ]
     },
     "execution_count": 5,
     "metadata": {},
     "output_type": "execute_result"
    }
   ],
   "source": [
    "distance_manhattan(np.array([0,0]), np.array([1,2]))"
   ]
  },
  {
   "cell_type": "markdown",
   "metadata": {},
   "source": [
    "## misc resources"
   ]
  },
  {
   "cell_type": "markdown",
   "metadata": {},
   "source": [
    "Python list comprehension:\n",
    "https://www.geeksforgeeks.org/python-list-comprehension-and-slicing/"
   ]
  },
  {
   "cell_type": "markdown",
   "metadata": {},
   "source": [
    "NumPy array indexing: https://docs.scipy.org/doc/numpy/reference/arrays.indexing.html"
   ]
  },
  {
   "cell_type": "markdown",
   "metadata": {},
   "source": [
    "Manhattan distance https://en.wikipedia.org/wiki/Taxicab_geometry\n",
    "and also <a href=\"https://thatsmaths.com/2012/11/29/where-circles-are-square-and-%CF%80-equals-4/\">Square circles</a>"
   ]
  },
  {
   "cell_type": "code",
   "execution_count": null,
   "metadata": {},
   "outputs": [],
   "source": []
  }
 ],
 "metadata": {
  "kernelspec": {
   "display_name": "Python 3",
   "language": "python",
   "name": "python3"
  },
  "language_info": {
   "codemirror_mode": {
    "name": "ipython",
    "version": 3
   },
   "file_extension": ".py",
   "mimetype": "text/x-python",
   "name": "python",
   "nbconvert_exporter": "python",
   "pygments_lexer": "ipython3",
   "version": "3.6.7"
  }
 },
 "nbformat": 4,
 "nbformat_minor": 2
}
