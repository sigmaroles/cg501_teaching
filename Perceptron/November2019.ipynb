{
 "cells": [
  {
   "cell_type": "code",
   "execution_count": 1,
   "metadata": {},
   "outputs": [],
   "source": [
    "import numpy as np"
   ]
  },
  {
   "cell_type": "code",
   "execution_count": 2,
   "metadata": {},
   "outputs": [],
   "source": [
    "outputs = {}\n",
    "outputs['AND'] = [0, 0, 0, 1]\n",
    "outputs['OR'] = [0, 1, 1, 1]\n",
    "outputs['NOR'] = [1, 0, 0, 0]\n",
    "outputs['NAND'] = [1, 1, 1, 0]\n",
    "\n",
    "epochs = 500\n",
    "lrate = 0.01"
   ]
  },
  {
   "cell_type": "code",
   "execution_count": 3,
   "metadata": {},
   "outputs": [],
   "source": [
    "indata = np.array([(0,0,1), (0,1,1), (1,0,1), (1,1,1)])\n",
    "# the extra 1 is for bias multiplier -- bias is in-built in weight matrix (no extra variable)"
   ]
  },
  {
   "cell_type": "code",
   "execution_count": 4,
   "metadata": {},
   "outputs": [],
   "source": [
    "def predict(weights, indata):\n",
    "    return np.dot(indata, weights)\n",
    "\n",
    "def activation(y, thresh=0.5):\n",
    "    if y<thresh: \n",
    "        return 0\n",
    "    else: \n",
    "        return 1"
   ]
  },
  {
   "cell_type": "code",
   "execution_count": 5,
   "metadata": {},
   "outputs": [
    {
     "name": "stdout",
     "output_type": "stream",
     "text": [
      "\n",
      "\n",
      "Function : AND\n",
      "predicted\tactual\n",
      "0\t\t0\n",
      "0\t\t0\n",
      "0\t\t0\n",
      "1\t\t1\n",
      "weights = [[ 0.49511101]\n",
      " [ 0.5468057 ]\n",
      " [-0.06335316]]\n",
      "\n",
      "\n",
      "Function : OR\n",
      "predicted\tactual\n",
      "0\t\t0\n",
      "1\t\t1\n",
      "1\t\t1\n",
      "1\t\t1\n",
      "weights = [[0.9851034 ]\n",
      " [0.35319898]\n",
      " [0.49217285]]\n",
      "\n",
      "\n",
      "Function : NOR\n",
      "predicted\tactual\n",
      "1\t\t1\n",
      "0\t\t0\n",
      "0\t\t0\n",
      "0\t\t0\n",
      "weights = [[-0.0080888 ]\n",
      " [-0.01464404]\n",
      " [ 0.50470375]]\n",
      "\n",
      "\n",
      "Function : NAND\n",
      "predicted\tactual\n",
      "1\t\t1\n",
      "1\t\t1\n",
      "1\t\t1\n",
      "0\t\t0\n",
      "weights = [[-0.01654496]\n",
      " [-0.00720462]\n",
      " [ 0.51821331]]\n"
     ]
    }
   ],
   "source": [
    "for func_type in outputs.keys():\n",
    "\n",
    "    w1 = np.random.rand(indata.shape[1], 1) # extra one value to represent bias\n",
    "    wcopy = np.copy(w1)\n",
    "    outdata = outputs[func_type]\n",
    "\n",
    "    # learning loop\n",
    "    for epindx in range(epochs):\n",
    "        for i in range(len(indata)):\n",
    "            predicted = activation(predict(w1, indata[i]))\n",
    "\n",
    "            # delta rule\n",
    "            err = outdata[i] - predicted \n",
    "\n",
    "            w_delta = (lrate * err * indata[i]).reshape(w1.shape)\n",
    "            w1 += w_delta\n",
    "\n",
    "\n",
    "    print (f\"\\n\\nFunction : {func_type}\")\n",
    "    print (\"predicted\\tactual\")\n",
    "    for i in range(len(indata)):\n",
    "        print (f\"{activation(predict(w1, indata[i]))}\\t\\t{outdata[i]}\")\n",
    "    print (f\"weights = {w1}\")"
   ]
  },
  {
   "cell_type": "code",
   "execution_count": null,
   "metadata": {},
   "outputs": [],
   "source": []
  },
  {
   "cell_type": "code",
   "execution_count": null,
   "metadata": {},
   "outputs": [],
   "source": []
  }
 ],
 "metadata": {
  "kernelspec": {
   "display_name": "Python 3",
   "language": "python",
   "name": "python3"
  },
  "language_info": {
   "codemirror_mode": {
    "name": "ipython",
    "version": 3
   },
   "file_extension": ".py",
   "mimetype": "text/x-python",
   "name": "python",
   "nbconvert_exporter": "python",
   "pygments_lexer": "ipython3",
   "version": "3.6.7"
  }
 },
 "nbformat": 4,
 "nbformat_minor": 2
}
