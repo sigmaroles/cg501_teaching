{
 "cells": [
  {
   "cell_type": "code",
   "execution_count": 18,
   "metadata": {},
   "outputs": [],
   "source": [
    "import numpy as np\n",
    "import matplotlib.pyplot as plt\n",
    "from scipy.linalg import norm"
   ]
  },
  {
   "cell_type": "code",
   "execution_count": 37,
   "metadata": {},
   "outputs": [],
   "source": [
    "outputs = {}\n",
    "outputs['OR'] = [0, 1, 1, 1]\n",
    "outputs['NOR'] = [1, 0, 0, 0]\n",
    "outputs['NAND'] = [1, 1, 1, 0]\n",
    "outputs['AND'] = [0, 0, 0, 1]\n",
    "#outputs['XNOR'] = [1, 0, 0, 1]\n",
    "#outputs['XOR'] = [0, 1, 1, 0]\n",
    "\n",
    "epochs = 500\n",
    "lrate = 0.01"
   ]
  },
  {
   "cell_type": "code",
   "execution_count": 38,
   "metadata": {},
   "outputs": [],
   "source": [
    "indata = np.array([(0,0,1), (0,1,1), (1,0,1), (1,1,1)])\n",
    "# the extra 1 is for bias multiplier -- bias is in-built in weight matrix (no extra variable)"
   ]
  },
  {
   "cell_type": "code",
   "execution_count": 39,
   "metadata": {},
   "outputs": [],
   "source": [
    "def predict(weights, indata):\n",
    "    return np.dot(indata, weights)\n",
    "\n",
    "def activation(y, thresh=0.5):\n",
    "    if y<thresh: \n",
    "        return 0\n",
    "    else: \n",
    "        return 1"
   ]
  },
  {
   "cell_type": "code",
   "execution_count": 49,
   "metadata": {},
   "outputs": [
    {
     "name": "stdout",
     "output_type": "stream",
     "text": [
      "\n",
      "\n",
      "Function : OR\n",
      "predicted\tactual\n",
      "0\t\t0\n",
      "1\t\t1\n",
      "1\t\t1\n",
      "1\t\t1\n",
      "weights = [[0.34258118]\n",
      " [0.22348987]\n",
      " [0.28945964]]\n",
      "\n",
      "\n",
      "Function : NOR\n",
      "predicted\tactual\n",
      "1\t\t1\n",
      "0\t\t0\n",
      "0\t\t0\n",
      "0\t\t0\n",
      "weights = [[-0.0715328 ]\n",
      " [-0.00435504]\n",
      " [ 0.50296521]]\n",
      "\n",
      "\n",
      "Function : NAND\n",
      "predicted\tactual\n",
      "1\t\t1\n",
      "1\t\t1\n",
      "1\t\t1\n",
      "0\t\t0\n",
      "weights = [[-0.05659114]\n",
      " [-0.00182081]\n",
      " [ 0.55679394]]\n",
      "\n",
      "\n",
      "Function : AND\n",
      "predicted\tactual\n",
      "0\t\t0\n",
      "0\t\t0\n",
      "0\t\t0\n",
      "1\t\t1\n",
      "weights = [[0.42733248]\n",
      " [0.25106122]\n",
      " [0.07080861]]\n"
     ]
    }
   ],
   "source": [
    "for func_type in outputs.keys():\n",
    "\n",
    "    w1 = np.random.rand(indata.shape[1], 1) # extra one value to represent bias\n",
    "    wcopy = np.copy(w1)\n",
    "    outdata = outputs[func_type]\n",
    "\n",
    "    # learning loop\n",
    "    for epindx in range(epochs):\n",
    "        for i in range(len(indata)):\n",
    "            predicted = activation(predict(w1, indata[i]))\n",
    "\n",
    "            # delta rule\n",
    "            err = outdata[i] - predicted \n",
    "\n",
    "            w_delta = (lrate * err * indata[i]).reshape(w1.shape)\n",
    "            w1 += w_delta\n",
    "\n",
    "\n",
    "    print (f\"\\n\\nFunction : {func_type}\")\n",
    "    print (\"predicted\\tactual\")\n",
    "    for i in range(len(indata)):\n",
    "        print (f\"{activation(predict(w1, indata[i]))}\\t\\t{outdata[i]}\")\n",
    "    print (f\"weights = {w1}\")"
   ]
  },
  {
   "cell_type": "code",
   "execution_count": 53,
   "metadata": {},
   "outputs": [
    {
     "data": {
      "text/plain": [
       "[<matplotlib.lines.Line2D at 0x7f79545c3668>]"
      ]
     },
     "execution_count": 53,
     "metadata": {},
     "output_type": "execute_result"
    },
    {
     "data": {
      "image/png": "[encoded data removed]",
      "text/plain": [
       "<Figure size 432x288 with 1 Axes>"
      ]
     },
     "metadata": {},
     "output_type": "display_data"
    }
   ],
   "source": [
    "# from https://zahidhasan.github.io/2017-09-10-perceptron/\n",
    "b = w1[2]\n",
    "a = [0,-b/w1[1]]\n",
    "c = [-b/w1[0],0]\n",
    "\n",
    "\n",
    "# britt anderson method - perpendicular line to the weight vector\n",
    "xvals = np.linspace(-0.2,1.2,1000)\n",
    "slope = -1 / (w1[1] / w1[0])\n",
    "yvals = slope * xvals # + w1[2]\n",
    "\n",
    "# common - calculate the points and colors\n",
    "points = indata[:,:-1]\n",
    "xp = points[:,0].tolist()\n",
    "yp = points[:,1].tolist()\n",
    "cdict = {0:'green', 1:'red'}\n",
    "colors = [cdict[x] for x in outdata]\n",
    "\n",
    "# finally, plot them all\n",
    "plt.plot(xvals, yvals, linestyle='--', color='blue')\n",
    "plt.scatter(xp, yp, marker = '*', lw=0, color = colors, s=120)\n",
    "plt.plot(a,c)"
   ]
  },
  {
   "cell_type": "code",
   "execution_count": 50,
   "metadata": {},
   "outputs": [
    {
     "data": {
      "text/plain": [
       "(3, 1)"
      ]
     },
     "execution_count": 50,
     "metadata": {},
     "output_type": "execute_result"
    }
   ],
   "source": [
    "w1.shape"
   ]
  },
  {
   "cell_type": "code",
   "execution_count": 51,
   "metadata": {},
   "outputs": [
    {
     "data": {
      "text/plain": [
       "(3,)"
      ]
     },
     "execution_count": 51,
     "metadata": {},
     "output_type": "execute_result"
    }
   ],
   "source": [
    "indata[1].shape"
   ]
  },
  {
   "cell_type": "code",
   "execution_count": null,
   "metadata": {},
   "outputs": [],
   "source": []
  }
 ],
 "metadata": {
  "kernelspec": {
   "display_name": "Python 3",
   "language": "python",
   "name": "python3"
  },
  "language_info": {
   "codemirror_mode": {
    "name": "ipython",
    "version": 3
   },
   "file_extension": ".py",
   "mimetype": "text/x-python",
   "name": "python",
   "nbconvert_exporter": "python",
   "pygments_lexer": "ipython3",
   "version": "3.6.7"
  }
 },
 "nbformat": 4,
 "nbformat_minor": 2
}
